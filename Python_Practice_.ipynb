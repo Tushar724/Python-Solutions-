{
  "nbformat": 4,
  "nbformat_minor": 0,
  "metadata": {
    "colab": {
      "provenance": [],
      "authorship_tag": "ABX9TyNfA/9sfAtDwGg9vG35R5y3",
      "include_colab_link": true
    },
    "kernelspec": {
      "name": "python3",
      "display_name": "Python 3"
    },
    "language_info": {
      "name": "python"
    }
  },
  "cells": [
    {
      "cell_type": "markdown",
      "metadata": {
        "id": "view-in-github",
        "colab_type": "text"
      },
      "source": [
        "<a href=\"https://colab.research.google.com/github/Tushar724/Python-Solutions-/blob/main/Python_Practice_.ipynb\" target=\"_parent\"><img src=\"https://colab.research.google.com/assets/colab-badge.svg\" alt=\"Open In Colab\"/></a>"
      ]
    },
    {
      "cell_type": "code",
      "execution_count": 6,
      "metadata": {
        "colab": {
          "base_uri": "https://localhost:8080/"
        },
        "id": "c8V-YQIeScyg",
        "outputId": "2ecb7f2a-4744-44a7-9e27-d56b301f3f84"
      },
      "outputs": [
        {
          "output_type": "stream",
          "name": "stdout",
          "text": [
            "{'ikip', 'onli', 'cour', 'code', 'w3sc', 'pyth', 'etpl', 'ub.c'}\n"
          ]
        }
      ],
      "source": [
        "from googlesearch import search\n",
        "query = \"Python\"\n",
        "my_results = []\n",
        "l1 = [url.replace(\"https://\",\"\")  for url in search(query,tld='com',lang='en',num = 10,start=0,stop=10,pause=2.0)]\n",
        "\n",
        "l2 = [i[4:8] for i in l1]\n",
        "\n",
        "b = set()\n",
        "b.update(l2)\n",
        "print(b)\n"
      ]
    },
    {
      "cell_type": "code",
      "source": [
        "l1 = [1,2,3,4,5,6]\n",
        "l2 = [7,8,9,10,11,12]\n",
        "d1 = {i:v for i,v in zip(l1,l2)}\n",
        "d1"
      ],
      "metadata": {
        "colab": {
          "base_uri": "https://localhost:8080/"
        },
        "id": "MvSEqYlBk5TC",
        "outputId": "90c12ce2-e3ba-42a9-df84-162cb66436da"
      },
      "execution_count": 7,
      "outputs": [
        {
          "output_type": "execute_result",
          "data": {
            "text/plain": [
              "{1: 7, 2: 8, 3: 9, 4: 10, 5: 11, 6: 12}"
            ]
          },
          "metadata": {},
          "execution_count": 7
        }
      ]
    },
    {
      "cell_type": "code",
      "source": [
        "inp = input()\n",
        "words = inp.split()\n",
        "l2 = [i for i in words if len(i)>4]\n",
        "l2"
      ],
      "metadata": {
        "colab": {
          "base_uri": "https://localhost:8080/"
        },
        "id": "QwgjRc19lk0r",
        "outputId": "b68fa10d-60a3-4122-9ae4-197d96a13fbe"
      },
      "execution_count": 20,
      "outputs": [
        {
          "name": "stdout",
          "output_type": "stream",
          "text": [
            "hello how are you\n"
          ]
        },
        {
          "output_type": "execute_result",
          "data": {
            "text/plain": [
              "['hello']"
            ]
          },
          "metadata": {},
          "execution_count": 20
        }
      ]
    },
    {
      "cell_type": "code",
      "source": [
        "inp = int(input())\n",
        "l1  = [(int(input()),(int(input()))) for i in range(inp) ]\n",
        "print(sorted(l1,key=len))"
      ],
      "metadata": {
        "colab": {
          "base_uri": "https://localhost:8080/"
        },
        "id": "iJnDzQHPlG6G",
        "outputId": "9b65ac21-00ff-4e63-9ab4-239157e0611d"
      },
      "execution_count": 22,
      "outputs": [
        {
          "output_type": "stream",
          "name": "stdout",
          "text": [
            "3\n",
            "2\n",
            "9\n",
            "3\n",
            "8\n",
            "4\n",
            "7\n",
            "[(2, 9), (3, 8), (4, 7)]\n"
          ]
        }
      ]
    },
    {
      "cell_type": "code",
      "source": [
        "a = '1,3,4,2,9,2,2'\n",
        "out = tuple(map(int, a.split(\",\")))\n",
        "sorted_tuple = sorted(out)\n",
        "print(sorted_tuple)\n",
        "\n",
        "part1 = []\n",
        "part2 = []\n",
        "\n",
        "for i in range(len(sorted_tuple)):\n",
        "    if sum(part1)<=sum(part2):\n",
        "      part1.append(sorted_tuple[i])\n",
        "    else:\n",
        "      part2.append(sorted_tuple[i])\n",
        "print(tuple(part1))\n",
        "print(tuple(part2))\n",
        "\n"
      ],
      "metadata": {
        "colab": {
          "base_uri": "https://localhost:8080/"
        },
        "id": "iWy--Hiqo97q",
        "outputId": "eaae889d-41b5-4a66-a61e-04233ba5e8fe"
      },
      "execution_count": 10,
      "outputs": [
        {
          "output_type": "stream",
          "name": "stdout",
          "text": [
            "[1, 2, 2, 2, 3, 4, 9]\n",
            "(1, 2, 3, 9)\n",
            "(2, 2, 4)\n"
          ]
        }
      ]
    },
    {
      "cell_type": "code",
      "source": [
        "input_tuple = tuple(map(int, input().split()))\n",
        "input_str = input()\n",
        "l1 = list(input_tuple)\n",
        "l2 = []\n",
        "for i in range(len(l1)):\n",
        "  l2.append(l1[i])\n",
        "  l2.append(input_str)\n",
        "\n",
        "print(l2)"
      ],
      "metadata": {
        "colab": {
          "base_uri": "https://localhost:8080/"
        },
        "id": "fjp6ECNvVwWb",
        "outputId": "3f699bae-0102-4f04-e719-edfd7d89a577"
      },
      "execution_count": 24,
      "outputs": [
        {
          "output_type": "stream",
          "name": "stdout",
          "text": [
            "1 2 3 4 5 6\n",
            "hi\n",
            "[1, 'hi', 2, 'hi', 3, 'hi', 4, 'hi', 5, 'hi', 6, 'hi']\n"
          ]
        }
      ]
    },
    {
      "cell_type": "code",
      "source": [
        "inp = input()\n",
        "if \"cats\" and  \"dogs\" in inp:\n",
        "  print(True)\n",
        "else:\n",
        "  print(False)"
      ],
      "metadata": {
        "colab": {
          "base_uri": "https://localhost:8080/"
        },
        "id": "KqYNUks6oqo5",
        "outputId": "e90e43a4-a62d-4964-ca3b-e43334fd14b0"
      },
      "execution_count": 28,
      "outputs": [
        {
          "output_type": "stream",
          "name": "stdout",
          "text": [
            "hellocatsdogs\n",
            "False\n"
          ]
        }
      ]
    },
    {
      "cell_type": "code",
      "source": [
        "inp=input()\n",
        "count1 = 0\n",
        "count2 = 0\n",
        "for i in inp:\n",
        "  count1 = inp.count(\"cats\")\n",
        "  count2 = inp.count(\"dogs\")\n",
        "if count1==count2:\n",
        "  print(\"True\")\n",
        "else:\n",
        "  print(\"False\")"
      ],
      "metadata": {
        "colab": {
          "base_uri": "https://localhost:8080/"
        },
        "id": "JEfvMzcRvP4H",
        "outputId": "caa62f2d-de6b-4b8b-ae6b-5ed6a67772c2"
      },
      "execution_count": 33,
      "outputs": [
        {
          "output_type": "stream",
          "name": "stdout",
          "text": [
            "hellocatscatsdogs\n",
            "False\n"
          ]
        }
      ]
    },
    {
      "cell_type": "code",
      "source": [
        "L1 = [1,6,8,4,8,3,6,2,10,4,9,5]\n",
        "L2 = []\n",
        "L2.extend(L1[:5])\n",
        "L2.extend(L1[-5:])\n",
        "print(L2)\n",
        "for i in range(len(L2)):\n",
        "   L2[i] = L2[i]**2\n",
        "\n",
        "print(L2)\n",
        "\n",
        "# Splitting the lists\n",
        "L6 , L3 , L5 = [] , [] , []\n",
        "L6.append(L2[:2])\n",
        "L3.append(L2[2:5])\n",
        "L5.append(L2[5:])\n",
        "print(L6,L3,L5)"
      ],
      "metadata": {
        "id": "MpBf2YKqx9du"
      },
      "execution_count": null,
      "outputs": []
    },
    {
      "cell_type": "code",
      "source": [
        "import pandas as pd\n",
        "dataset = pd.read_csv('Sample124.csv')\n",
        "dataset[\"Verification\"] = \"Verified\"\n",
        "dataset[\"Verification\"][5]=\"Not Verified\"\n",
        "\n",
        "#changing the dataset for operations\n",
        "dataset[\"ID\"][1] = \"AAAAA11111\"\n",
        "dataset[\"DOB\"][1] = \"24-09-2001\"\n",
        "\n",
        "#Adding the amount into the index of 1st ID\n",
        "dataset[\"Amount\"][0] = dataset[\"Amount\"][0] + dataset[\"Amount\"][1]\n",
        "dataset"
      ],
      "metadata": {
        "id": "aE7jupQtyEwf"
      },
      "execution_count": null,
      "outputs": []
    },
    {
      "cell_type": "code",
      "source": [
        "arr = []\n",
        "n = int(input())\n",
        "if n>10:\n",
        "  for i in range(n):\n",
        "    a = int(input())\n",
        "    b = bin(a)\n",
        "    arr.append(b)\n",
        "  print(tuple(arr))\n",
        "  print(arr[::-1] and arr[::-2])\n",
        "  print(arr[::-1] or arr[::-2])\n",
        "else:\n",
        "  print(\"Between 10 and 20\")"
      ],
      "metadata": {
        "id": "0AlpwBcjyHKQ"
      },
      "execution_count": null,
      "outputs": []
    },
    {
      "cell_type": "code",
      "source": [
        "employees = int(input())\n",
        "attendance = int(input())\n",
        "data = []\n",
        "for i in range(attendance):\n",
        "  att = input()\n",
        "  if len(att) == employees:\n",
        "    data.append(att)\n",
        "  else:\n",
        "    print(\"All days are not mentioned\")\n",
        "    break;\n",
        "\n",
        "for i in range(len(data)):\n",
        "  a = data[i].count(\"P\")\n",
        "  if a==employees:\n",
        "    print(i, end=\" \")"
      ],
      "metadata": {
        "id": "h-6EyMTnyMEK"
      },
      "execution_count": null,
      "outputs": []
    },
    {
      "cell_type": "code",
      "source": [
        "L1 = [11,21,24,12,18]\n",
        "L2 = [14,44,25,37,13]\n",
        "L3 = []\n",
        "L3.extend(L1[::2])\n",
        "L3.extend(L2[1::2])\n",
        "print(L3)"
      ],
      "metadata": {
        "id": "DZ0KZO1myO8y"
      },
      "execution_count": null,
      "outputs": []
    },
    {
      "cell_type": "code",
      "source": [
        "sti = input()\n",
        "length = len(sti)\n",
        "if length > 7:\n",
        "  print(sti[::2])\n",
        "\n",
        "if length <=7 :\n",
        "  print(sti[1::2])"
      ],
      "metadata": {
        "id": "N4N85URByRMk"
      },
      "execution_count": null,
      "outputs": []
    },
    {
      "cell_type": "code",
      "source": [
        "num1 , num2 = map(int,input().split())\n",
        "product = a*b\n",
        "if product>500:\n",
        "  print(num1+num2)\n",
        "else:\n",
        "  print(\"Hello LNB code is running fine !!\")"
      ],
      "metadata": {
        "id": "08fIGH3oyR8Q"
      },
      "execution_count": null,
      "outputs": []
    },
    {
      "cell_type": "code",
      "source": [
        "number1 = 5\n",
        "sum = 0\n",
        "for i in range(number1):\n",
        "  n = int(input())\n",
        "  if n>9:\n",
        "    sum=sum+n\n",
        "print(sum)"
      ],
      "metadata": {
        "id": "Wweat0dKyVSi"
      },
      "execution_count": null,
      "outputs": []
    }
  ]
}